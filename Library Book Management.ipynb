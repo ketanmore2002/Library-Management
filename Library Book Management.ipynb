{
 "cells": [
  {
   "cell_type": "code",
   "execution_count": 16,
   "metadata": {},
   "outputs": [],
   "source": [
    "import tkinter as tk                                                                 #SG\n",
    "\n",
    "from tkinter import * \n",
    "\n",
    "window = Tk()\n",
    "window.title('Library Book Management')\n",
    "window.geometry('900x500')\n",
    "window.configure(bg='light grey')"
   ]
  },
  {
   "cell_type": "code",
   "execution_count": 17,
   "metadata": {},
   "outputs": [
    {
     "data": {
      "text/plain": [
       "<sqlite3.Cursor at 0x1f659bbddc0>"
      ]
     },
     "execution_count": 17,
     "metadata": {},
     "output_type": "execute_result"
    }
   ],
   "source": [
    "import sqlite3\n",
    "\n",
    "conn = sqlite3.connect('books.db')\n",
    "cursorObj = conn.cursor()\n",
    "\n",
    "conn = sqlite3.connect('books.db')\n",
    "cursorObj = conn.cursor()\n",
    "cursorObj.execute('CREATE TABLE IF NOT EXISTS book_table( bookname TEXT, author TEXT,year TEXT ,bookstatus TEXT)')"
   ]
  },
  {
   "cell_type": "markdown",
   "metadata": {},
   "source": [
    "# list box"
   ]
  },
  {
   "cell_type": "code",
   "execution_count": 18,
   "metadata": {},
   "outputs": [],
   "source": [
    "lb1 = Listbox(window,width=40, height=10,)\n",
    "lb1.grid(row = 4 ,column =0)\n",
    "\n",
    "t1 = Text(window,height=1,width=20)\n",
    "t1.grid(row=5,column=1)"
   ]
  },
  {
   "cell_type": "markdown",
   "metadata": {},
   "source": [
    "# welcome message"
   ]
  },
  {
   "cell_type": "code",
   "execution_count": 19,
   "metadata": {},
   "outputs": [],
   "source": [
    "wel = str(\"      Welcome!\")\n",
    "t1.insert(END,wel)"
   ]
  },
  {
   "cell_type": "markdown",
   "metadata": {},
   "source": [
    "# variables"
   ]
  },
  {
   "cell_type": "code",
   "execution_count": 20,
   "metadata": {},
   "outputs": [],
   "source": [
    "e1_var = StringVar()\n",
    "\n",
    "e1 = Entry(window,textvariable = e1_var)\n",
    "e1.grid(row=0,column=1)\n",
    "\n",
    "e2_var = StringVar()\n",
    "\n",
    "e2 = Entry(window,textvariable = e2_var)\n",
    "e2.grid(row=1,column=1)\n",
    "\n",
    "e3_var = StringVar()\n",
    "\n",
    "e3 = Entry(window, textvariable = e3_var)\n",
    "e3.grid(row=2,column=1)\n",
    "\n",
    "e4_var = str('not issued')"
   ]
  },
  {
   "cell_type": "markdown",
   "metadata": {},
   "source": [
    "# labels"
   ]
  },
  {
   "cell_type": "code",
   "execution_count": 21,
   "metadata": {},
   "outputs": [],
   "source": [
    "l1 = tk.Label(window, text=\"Book name :\")\n",
    "l1.grid(row=0,column=0)\n",
    "\n",
    "l2 = tk.Label(window, text=\"Author name :\")\n",
    "l2.grid(row=1,column=0)\n",
    "\n",
    "l3 = tk.Label(window, text=\"year :\")\n",
    "l3.grid(row=2,column=0)\n",
    "\n",
    "l4 = tk.Label(window, text=\"Status :\")\n",
    "l4.grid(row=5,column=0)\n",
    "\n",
    "l5 = tk.Label(window, text=\"Exist  :\")\n",
    "l5.grid(row=17,column=3)\n",
    "\n",
    "l6 = tk.Label(window, text=\"Enter elements into entry widget to perform operations\",bg='orange')\n",
    "l6.grid(row=0,column=3)"
   ]
  },
  {
   "cell_type": "markdown",
   "metadata": {},
   "source": [
    "# add books"
   ]
  },
  {
   "cell_type": "code",
   "execution_count": 22,
   "metadata": {},
   "outputs": [],
   "source": [
    "def insert_books():\n",
    "    conn = sqlite3.connect('books.db')\n",
    "    cursorObj = conn.cursor()\n",
    "    cursorObj.execute('INSERT INTO book_table values(?,?,?,?)',(e1_var.get(),e2_var.get(),e3_var.get(),e4_var))\n",
    "    conn.commit()\n",
    "    t1.delete(\"1.0\",END)\n",
    "    a = str(\"Book Added !\")\n",
    "    t1.insert(END,a)\n",
    "    \n",
    "    \n"
   ]
  },
  {
   "cell_type": "markdown",
   "metadata": {},
   "source": [
    "# read data"
   ]
  },
  {
   "cell_type": "code",
   "execution_count": 23,
   "metadata": {},
   "outputs": [],
   "source": [
    "global rows\n",
    "conn = sqlite3.connect('books.db')\n",
    "cursorObj = conn.cursor()\n",
    "cursorObj.execute('SELECT * FROM book_table')\n",
    "rows = cursorObj.fetchall()\n",
    "conn.commit()\n",
    "\n",
    "def read_d():\n",
    "    global rows\n",
    "    conn = sqlite3.connect('books.db')\n",
    "    cursorObj = conn.cursor()\n",
    "    cursorObj.execute('SELECT * FROM book_table')\n",
    "    rows = cursorObj.fetchall()\n",
    "    conn.commit()\n",
    "    lb1.delete(0,END)\n",
    "    lb1.insert(0,*rows)\n",
    "    t1.delete(\"1.0\",END)\n",
    "    r = str(\"All Data Read !\")\n",
    "    t1.insert(END,r)"
   ]
  },
  {
   "cell_type": "markdown",
   "metadata": {},
   "source": [
    "# book delete"
   ]
  },
  {
   "cell_type": "code",
   "execution_count": 24,
   "metadata": {},
   "outputs": [],
   "source": [
    "\n",
    "\n",
    "def delete_book():\n",
    "    global e55_var\n",
    "    conn = sqlite3.connect('books.db')\n",
    "    cursorObj = conn.cursor()\n",
    "    cursorObj.execute('DELETE From book_table WHERE  bookname = ?',[e1_var.get()])\n",
    "    conn.commit()\n",
    "    conn.close()\n",
    "    t1.delete(\"1.0\",END)\n",
    "    d = str(\"Book Deleted !\")\n",
    "    t1.insert(END,d )"
   ]
  },
  {
   "cell_type": "markdown",
   "metadata": {},
   "source": [
    "# search book"
   ]
  },
  {
   "cell_type": "code",
   "execution_count": 25,
   "metadata": {},
   "outputs": [],
   "source": [
    "def Search_books():\n",
    "    global lb1,row1,e3\n",
    "    conn = sqlite3.connect('books.db')\n",
    "    cursorObjSearch_books = conn.cursor()\n",
    "    cursorObj.execute('SELECT * FROM book_table WHERE bookname like ? or author like ? or year like ? ',[e1_var.get(),e2_var.get(),e3_var.get()])\n",
    "    row1 = cursorObj.fetchall()\n",
    "    conn.commit()\n",
    "    conn.close()\n",
    "    #e3.delete(0,END)\n",
    "    #e3.insert(0,0)\n",
    "    lb1.delete(0,END)\n",
    "    lb1.insert(0,*row1)\n",
    "    t1.delete(\"1.0\",END)\n",
    "    s = str(\"Book Searched !\")\n",
    "    t1.insert(END,s)"
   ]
  },
  {
   "cell_type": "code",
   "execution_count": 26,
   "metadata": {},
   "outputs": [],
   "source": [
    "def insert_books():\n",
    "    conn = sqlite3.connect('books.db')\n",
    "    cursorObj = conn.cursor()\n",
    "    cursorObj.execute('INSERT INTO book_table values(?,?,?,?)',(e1_var.get(),e2_var.get(),e3_var.get(),e4_var))\n",
    "    conn.commit()\n",
    "    t1.delete(\"1.0\",END)\n",
    "    a = str(\"Book Added !\")\n",
    "    t1.insert(END,a)"
   ]
  },
  {
   "cell_type": "markdown",
   "metadata": {},
   "source": [
    "# issue book"
   ]
  },
  {
   "cell_type": "code",
   "execution_count": 27,
   "metadata": {},
   "outputs": [],
   "source": [
    "\n",
    "\n",
    "def issue_book():\n",
    "    global t1\n",
    "    e4_var = str('issued')\n",
    "    conn = sqlite3.connect('books.db')\n",
    "    cursorObj = conn.cursor()\n",
    "    cursorObj.execute('UPDATE book_table SET bookstatus = ?  WHERE bookname  = ?',[e4_var,e1_var.get()])\n",
    "    #rows = cursorObj.fetchall()\n",
    "    conn.commit()\n",
    "    conn.close()\n",
    "    #return rows\n",
    "    t1.delete(\"1.0\",END)\n",
    "    i = str(\"Book Issued !\")\n",
    "    t1.insert(END,i)"
   ]
  },
  {
   "cell_type": "code",
   "execution_count": 28,
   "metadata": {},
   "outputs": [],
   "source": [
    "def withdraw_book():\n",
    "    global t1\n",
    "    e4_var = str('not issued')\n",
    "    conn = sqlite3.connect('books.db')\n",
    "    cursorObj = conn.cursor()\n",
    "    cursorObj.execute('UPDATE book_table SET bookstatus = ?  WHERE bookname  = ?',[e4_var,e1_var.get()])\n",
    "    #rows = cursorObj.fetchall()\n",
    "    conn.commit()\n",
    "    conn.close()\n",
    "    #return rows\n",
    "    t1.delete(\"1.0\",END)\n",
    "    w = str(\"Book withdrew !\")\n",
    "    t1.insert(END,w)"
   ]
  },
  {
   "cell_type": "markdown",
   "metadata": {},
   "source": [
    "# quit application"
   ]
  },
  {
   "cell_type": "code",
   "execution_count": 29,
   "metadata": {},
   "outputs": [],
   "source": [
    "def Quit():\n",
    "    window.destroy()\n"
   ]
  },
  {
   "cell_type": "markdown",
   "metadata": {},
   "source": [
    "# buttons"
   ]
  },
  {
   "cell_type": "code",
   "execution_count": 30,
   "metadata": {},
   "outputs": [],
   "source": [
    "b_insert=tk.Button(window, text =\"Add Book\",bg='pink', command = insert_books)\n",
    "b_insert.grid(row=3,column=0)\n",
    "\n",
    "b_read=tk.Button(window, text =\"Read\",bg='pink', command = read_d)\n",
    "b_read.grid(row=3,column=1)\n",
    "\n",
    "b_delete=tk.Button(window, text =\"delete\",bg='pink', command = delete_book)\n",
    "b_delete.grid(row=3,column=2)\n",
    "\n",
    "b_search=tk.Button(window, text =\"search\",bg='pink', command = Search_books)\n",
    "b_search.grid(row=3,column=3)\n",
    "\n",
    "b_issue=tk.Button(window, text =\"issue book\",bg='pink', command = issue_book)\n",
    "b_issue.grid(row=3,column=4)\n",
    "\n",
    "b_withdraw =tk.Button(window, text =\"return book\",bg='pink', command = withdraw_book)\n",
    "b_withdraw.grid(row=3,column=6)\n",
    "\n",
    "B_quit = tk.Button(window, text =\"Close Window\",bg='red', command = Quit )\n",
    "B_quit.grid(row =18 ,column=3)\n",
    "\n",
    "window.mainloop()"
   ]
  }
 ],
 "metadata": {
  "kernelspec": {
   "display_name": "Python 3",
   "language": "python",
   "name": "python3"
  },
  "language_info": {
   "codemirror_mode": {
    "name": "ipython",
    "version": 3
   },
   "file_extension": ".py",
   "mimetype": "text/x-python",
   "name": "python",
   "nbconvert_exporter": "python",
   "pygments_lexer": "ipython3",
   "version": "3.8.5"
  }
 },
 "nbformat": 4,
 "nbformat_minor": 4
}
